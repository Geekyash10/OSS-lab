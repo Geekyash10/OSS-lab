{
 "cells": [
  {
   "cell_type": "code",
   "execution_count": 1,
   "metadata": {},
   "outputs": [
    {
     "name": "stdout",
     "output_type": "stream",
     "text": [
      "5\n"
     ]
    }
   ],
   "source": [
    "a=5\n",
    "print(a)"
   ]
  },
  {
   "cell_type": "code",
   "execution_count": 2,
   "metadata": {},
   "outputs": [
    {
     "name": "stdout",
     "output_type": "stream",
     "text": [
      "5\n"
     ]
    }
   ],
   "source": [
    "a-10\n",
    "print(a)"
   ]
  },
  {
   "cell_type": "code",
   "execution_count": 3,
   "metadata": {},
   "outputs": [
    {
     "name": "stdout",
     "output_type": "stream",
     "text": [
      "10\n"
     ]
    }
   ],
   "source": [
    "a=10\n",
    "print(a)"
   ]
  },
  {
   "cell_type": "markdown",
   "metadata": {},
   "source": [
    "## OSS LAB EVAL"
   ]
  },
  {
   "cell_type": "code",
   "execution_count": 15,
   "metadata": {},
   "outputs": [
    {
     "name": "stdout",
     "output_type": "stream",
     "text": [
      "enter the titlevdfg\n",
      "enter the authorfyhry\n",
      "enter the ISBN2\n",
      "enter the GENREghytr\n",
      "enter the statushg\n",
      "{}\n"
     ]
    }
   ],
   "source": [
    "   book={}\n",
    "def add_book(book_list):\n",
    " \n",
    "#     n=input(\"enter the no of books you want to add\")\n",
    "#     for i in range(n):\n",
    "    book[\"title\"]=input(\"enter the title\")\n",
    "    book[\"author\"]=input(\"enter the author\")\n",
    "    book[\"ISBN\"]=int(input(\"enter the ISBN\"))\n",
    "    book[\"genre\"]=input(\"enter the GENRE\")\n",
    "    book[\"status\"]=input(\"enter the status\")\n",
    "book_list.update(book)\n",
    "        \n",
    "book_list={}\n",
    "add_book(book_list)\n",
    "print(book_list)\n",
    "        "
   ]
  },
  {
   "cell_type": "code",
   "execution_count": 9,
   "metadata": {},
   "outputs": [
    {
     "ename": "NameError",
     "evalue": "name 'book' is not defined",
     "output_type": "error",
     "traceback": [
      "\u001b[1;31m---------------------------------------------------------------------------\u001b[0m",
      "\u001b[1;31mNameError\u001b[0m                                 Traceback (most recent call last)",
      "\u001b[1;32m<ipython-input-9-36d237dcf0c8>\u001b[0m in \u001b[0;36m<module>\u001b[1;34m\u001b[0m\n\u001b[1;32m----> 1\u001b[1;33m \u001b[0mprint\u001b[0m\u001b[1;33m(\u001b[0m\u001b[0mbook\u001b[0m\u001b[1;33m)\u001b[0m\u001b[1;33m\u001b[0m\u001b[1;33m\u001b[0m\u001b[0m\n\u001b[0m",
      "\u001b[1;31mNameError\u001b[0m: name 'book' is not defined"
     ]
    }
   ],
   "source": [
    "print(book)"
   ]
  },
  {
   "cell_type": "code",
   "execution_count": 10,
   "metadata": {},
   "outputs": [
    {
     "name": "stdout",
     "output_type": "stream",
     "text": [
      "enter the titledd\n",
      "enter the authorewji\n",
      "enter the ISBNew\n"
     ]
    },
    {
     "ename": "ValueError",
     "evalue": "invalid literal for int() with base 10: 'ew'",
     "output_type": "error",
     "traceback": [
      "\u001b[1;31m---------------------------------------------------------------------------\u001b[0m",
      "\u001b[1;31mValueError\u001b[0m                                Traceback (most recent call last)",
      "\u001b[1;32m<ipython-input-10-8b2258b46d5a>\u001b[0m in \u001b[0;36m<module>\u001b[1;34m\u001b[0m\n\u001b[1;32m----> 1\u001b[1;33m \u001b[0mprint\u001b[0m\u001b[1;33m(\u001b[0m\u001b[0madd_book\u001b[0m\u001b[1;33m(\u001b[0m\u001b[0mbook_list\u001b[0m\u001b[1;33m)\u001b[0m\u001b[1;33m)\u001b[0m\u001b[1;33m\u001b[0m\u001b[1;33m\u001b[0m\u001b[0m\n\u001b[0m",
      "\u001b[1;32m<ipython-input-8-861a2fba394c>\u001b[0m in \u001b[0;36madd_book\u001b[1;34m(book_list)\u001b[0m\n\u001b[0;32m      5\u001b[0m     \u001b[0mbook\u001b[0m\u001b[1;33m[\u001b[0m\u001b[1;34m\"title\"\u001b[0m\u001b[1;33m]\u001b[0m\u001b[1;33m=\u001b[0m\u001b[0minput\u001b[0m\u001b[1;33m(\u001b[0m\u001b[1;34m\"enter the title\"\u001b[0m\u001b[1;33m)\u001b[0m\u001b[1;33m\u001b[0m\u001b[1;33m\u001b[0m\u001b[0m\n\u001b[0;32m      6\u001b[0m     \u001b[0mbook\u001b[0m\u001b[1;33m[\u001b[0m\u001b[1;34m\"author\"\u001b[0m\u001b[1;33m]\u001b[0m\u001b[1;33m=\u001b[0m\u001b[0minput\u001b[0m\u001b[1;33m(\u001b[0m\u001b[1;34m\"enter the author\"\u001b[0m\u001b[1;33m)\u001b[0m\u001b[1;33m\u001b[0m\u001b[1;33m\u001b[0m\u001b[0m\n\u001b[1;32m----> 7\u001b[1;33m     \u001b[0mbook\u001b[0m\u001b[1;33m[\u001b[0m\u001b[1;34m\"ISBN\"\u001b[0m\u001b[1;33m]\u001b[0m\u001b[1;33m=\u001b[0m\u001b[0mint\u001b[0m\u001b[1;33m(\u001b[0m\u001b[0minput\u001b[0m\u001b[1;33m(\u001b[0m\u001b[1;34m\"enter the ISBN\"\u001b[0m\u001b[1;33m)\u001b[0m\u001b[1;33m)\u001b[0m\u001b[1;33m\u001b[0m\u001b[1;33m\u001b[0m\u001b[0m\n\u001b[0m\u001b[0;32m      8\u001b[0m     \u001b[0mbook\u001b[0m\u001b[1;33m[\u001b[0m\u001b[1;34m\"genre\"\u001b[0m\u001b[1;33m]\u001b[0m\u001b[1;33m=\u001b[0m\u001b[0minput\u001b[0m\u001b[1;33m(\u001b[0m\u001b[1;34m\"enter the GENRE\"\u001b[0m\u001b[1;33m)\u001b[0m\u001b[1;33m\u001b[0m\u001b[1;33m\u001b[0m\u001b[0m\n\u001b[0;32m      9\u001b[0m     \u001b[0mbook\u001b[0m\u001b[1;33m[\u001b[0m\u001b[1;34m\"status\"\u001b[0m\u001b[1;33m]\u001b[0m\u001b[1;33m=\u001b[0m\u001b[0minput\u001b[0m\u001b[1;33m(\u001b[0m\u001b[1;34m\"enter the status\"\u001b[0m\u001b[1;33m)\u001b[0m\u001b[1;33m\u001b[0m\u001b[1;33m\u001b[0m\u001b[0m\n",
      "\u001b[1;31mValueError\u001b[0m: invalid literal for int() with base 10: 'ew'"
     ]
    }
   ],
   "source": [
    "print(add_book(book_list))"
   ]
  },
  {
   "cell_type": "code",
   "execution_count": 11,
   "metadata": {},
   "outputs": [
    {
     "name": "stdout",
     "output_type": "stream",
     "text": [
      "enter the titlefbr\n",
      "enter the authordjkfnjk\n",
      "enter the ISBN1\n",
      "enter the GENREjknfd\n",
      "enter the statusddjk\n",
      "None\n"
     ]
    }
   ],
   "source": [
    "print(add_book(book_list))\n"
   ]
  },
  {
   "cell_type": "code",
   "execution_count": 16,
   "metadata": {},
   "outputs": [],
   "source": [
    "bookList={\"title\":\"Yash\",\"author\":\"yash mittal\",\"ISBN\":1,\"genre\":\"science\",\"status\":\"aval\"}"
   ]
  },
  {
   "cell_type": "code",
   "execution_count": 17,
   "metadata": {},
   "outputs": [
    {
     "name": "stdout",
     "output_type": "stream",
     "text": [
      "{'title': 'Yash', 'author': 'yash mittal', 'ISBN': 1, 'genre': 'science', 'status': 'aval'}\n"
     ]
    }
   ],
   "source": [
    "print(bookList)"
   ]
  },
  {
   "cell_type": "code",
   "execution_count": 31,
   "metadata": {},
   "outputs": [
    {
     "name": "stdout",
     "output_type": "stream",
     "text": [
      "{1: {'title': 'dg', 'author': 'njjkwne', 'genre': 'dewjnjk', 'status': 'ewjnj'}, 2: {'title': 'dg', 'author': 'njjkwne', 'genre': 'dewjnjk', 'status': 'ewjnj'}, 3: {'title': 'harshal', 'author': 'relan', 'genre': 'pjy', 'status': 'aval'}}\n"
     ]
    }
   ],
   "source": [
    "book_list={}\n",
    "def add_Book(title,author,ISBN,genre,status):\n",
    "    book={}\n",
    "    if ISBN in book_list:\n",
    "        print(\"book id already exist\")\n",
    "        return 0\n",
    "    book_list[ISBN]={\n",
    "       \"title\":title,\n",
    "       \"author\":author,\n",
    "       \"genre\":genre,\n",
    "       \"status\":status\n",
    "   }\n",
    "\n",
    "add_Book(\"dg\",\"njjkwne\",1,\"dewjnjk\",\"ewjnj\")\n",
    "add_Book(\"dg\",\"njjkwne\",2,\"dewjnjk\",\"ewjnj\")\n",
    "add_Book(\"harshal\",\"relan\",3,\"pjy\",\"aval\")\n",
    "print(book_list)"
   ]
  },
  {
   "cell_type": "code",
   "execution_count": 27,
   "metadata": {},
   "outputs": [
    {
     "name": "stdout",
     "output_type": "stream",
     "text": [
      "{1: {'title': 'sai', 'author': 'bhati', 'genre': 'physisc', 'status': 'nonAVALIABLE'}, 2: {'title': 'dg', 'author': 'njjkwne', 'genre': 'dewjnjk', 'status': 'ewjnj'}}\n"
     ]
    }
   ],
   "source": [
    "def update_book_details(ISBN,title,author,genre,status):\n",
    "    if ISBN in book_list:\n",
    "        book_list[ISBN][\"title\"]=title\n",
    "        book_list[ISBN][\"author\"]=author\n",
    "        book_list[ISBN][\"genre\"]=genre\n",
    "        book_list[ISBN][\"status\"]=status\n",
    "\n",
    "update_book_details(1,\"sai\",\"bhati\",\"physisc\",\"nonAVALIABLE\")\n",
    "print(book_list)\n",
    "    "
   ]
  },
  {
   "cell_type": "code",
   "execution_count": 28,
   "metadata": {},
   "outputs": [],
   "source": [
    "def search_box(ISBN):\n",
    "    if ISBN in book_list:\n",
    "        print(book_list[ISBN])\n",
    "        \n",
    "    else:\n",
    "        print(\"NOT exist\")"
   ]
  },
  {
   "cell_type": "code",
   "execution_count": 29,
   "metadata": {},
   "outputs": [
    {
     "name": "stdout",
     "output_type": "stream",
     "text": [
      "{'title': 'sai', 'author': 'bhati', 'genre': 'physisc', 'status': 'nonAVALIABLE'}\n"
     ]
    }
   ],
   "source": [
    "search_box(1)"
   ]
  },
  {
   "cell_type": "code",
   "execution_count": 46,
   "metadata": {},
   "outputs": [
    {
     "name": "stdout",
     "output_type": "stream",
     "text": [
      "{'title': 'dg', 'author': 'njjkwne', 'genre': 'dewjnjk', 'status': 'ewjnj'}\n"
     ]
    }
   ],
   "source": [
    "def generate_genre_report(ISBN):\n",
    "    if ISBN in book_list:\n",
    "        if book_list[ISBN][\"status\"]=='ewjnj':\n",
    "            print(book_list[ISBN])\n",
    "         \n",
    "        \n",
    "        \n",
    "generate_genre_report(2)"
   ]
  },
  {
   "cell_type": "code",
   "execution_count": null,
   "metadata": {},
   "outputs": [],
   "source": []
  }
 ],
 "metadata": {
  "kernelspec": {
   "display_name": "Python 3",
   "language": "python",
   "name": "python3"
  },
  "language_info": {
   "codemirror_mode": {
    "name": "ipython",
    "version": 3
   },
   "file_extension": ".py",
   "mimetype": "text/x-python",
   "name": "python",
   "nbconvert_exporter": "python",
   "pygments_lexer": "ipython3",
   "version": "3.7.3"
  }
 },
 "nbformat": 4,
 "nbformat_minor": 2
}
